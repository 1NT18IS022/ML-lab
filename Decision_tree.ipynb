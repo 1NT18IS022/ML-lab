{
 "cells": [
  {
   "cell_type": "code",
   "execution_count": 17,
   "id": "adaptive-omaha",
   "metadata": {},
   "outputs": [],
   "source": [
    "import numpy as np\n",
    "import pandas as pd\n",
    "from sklearn.metrics import confusion_matrix\n",
    "from sklearn.tree import DecisionTreeClassifier\n",
    "from sklearn.metrics import accuracy_score\n",
    "from sklearn.metrics import classification_report\n",
    "from sklearn.model_selection import train_test_split"
   ]
  },
  {
   "cell_type": "code",
   "execution_count": 18,
   "id": "abstract-signal",
   "metadata": {},
   "outputs": [
    {
     "name": "stdout",
     "output_type": "stream",
     "text": [
      "    1  0  0.1  1.1  0.2  0.3  1.2  1.3  1.4  1.5  0.4  0.5  4  0.6  0.7  1.6  \\\n",
      "0   1  0    0    1    0    0    0    1    1    1    0    0  4    1    0    1   \n",
      "1   0  0    1    0    0    1    1    1    1    0    0    1  0    1    0    0   \n",
      "2   1  0    0    1    0    0    1    1    1    1    0    0  4    0    0    1   \n",
      "3   1  0    0    1    0    0    1    1    1    1    0    0  4    1    0    1   \n",
      "4   1  0    0    1    0    0    0    1    1    1    0    0  4    1    0    1   \n",
      ".. .. ..  ...  ...  ...  ...  ...  ...  ...  ...  ...  ... ..  ...  ...  ...   \n",
      "95  1  0    0    1    0    0    0    1    1    1    0    0  2    1    0    1   \n",
      "96  1  0    1    0    1    0    0    0    0    1    1    0  6    0    0    0   \n",
      "97  1  0    0    1    0    0    1    1    1    1    0    0  4    1    0    1   \n",
      "98  0  0    1    0    0    0    0    0    0    1    0    0  0    0    0    0   \n",
      "99  0  1    1    0    1    0    0    0    1    1    0    0  2    1    0    0   \n",
      "\n",
      "    1.7  \n",
      "0     1  \n",
      "1     4  \n",
      "2     1  \n",
      "3     1  \n",
      "4     1  \n",
      "..  ...  \n",
      "95    1  \n",
      "96    6  \n",
      "97    1  \n",
      "98    7  \n",
      "99    2  \n",
      "\n",
      "[100 rows x 17 columns]\n"
     ]
    }
   ],
   "source": [
    "df= pd.read_csv('zoo_data .csv')\n",
    "print(df)"
   ]
  },
  {
   "cell_type": "code",
   "execution_count": 19,
   "id": "continental-scanning",
   "metadata": {},
   "outputs": [
    {
     "data": {
      "text/plain": [
       "0    1\n",
       "1    4\n",
       "2    1\n",
       "3    1\n",
       "4    1\n",
       "5    1\n",
       "6    4\n",
       "7    4\n",
       "8    1\n",
       "9    1\n",
       "Name: 1.7, dtype: int64"
      ]
     },
     "execution_count": 19,
     "metadata": {},
     "output_type": "execute_result"
    }
   ],
   "source": [
    "target=df['1.7']\n",
    "target.head(10)"
   ]
  },
  {
   "cell_type": "code",
   "execution_count": 20,
   "id": "dedicated-twist",
   "metadata": {},
   "outputs": [
    {
     "name": "stdout",
     "output_type": "stream",
     "text": [
      "    1  0  0.1  1.1  0.2  0.3  1.2  1.3  1.4  1.5  0.4  0.5  4  0.6  0.7  1.6  \\\n",
      "0   1  0    0    1    0    0    0    1    1    1    0    0  4    1    0    1   \n",
      "1   0  0    1    0    0    1    1    1    1    0    0    1  0    1    0    0   \n",
      "2   1  0    0    1    0    0    1    1    1    1    0    0  4    0    0    1   \n",
      "3   1  0    0    1    0    0    1    1    1    1    0    0  4    1    0    1   \n",
      "4   1  0    0    1    0    0    0    1    1    1    0    0  4    1    0    1   \n",
      ".. .. ..  ...  ...  ...  ...  ...  ...  ...  ...  ...  ... ..  ...  ...  ...   \n",
      "95  1  0    0    1    0    0    0    1    1    1    0    0  2    1    0    1   \n",
      "96  1  0    1    0    1    0    0    0    0    1    1    0  6    0    0    0   \n",
      "97  1  0    0    1    0    0    1    1    1    1    0    0  4    1    0    1   \n",
      "98  0  0    1    0    0    0    0    0    0    1    0    0  0    0    0    0   \n",
      "99  0  1    1    0    1    0    0    0    1    1    0    0  2    1    0    0   \n",
      "\n",
      "    1.7  \n",
      "0     1  \n",
      "1     4  \n",
      "2     1  \n",
      "3     1  \n",
      "4     1  \n",
      "..  ...  \n",
      "95    1  \n",
      "96    6  \n",
      "97    1  \n",
      "98    7  \n",
      "99    2  \n",
      "\n",
      "[100 rows x 17 columns]\n"
     ]
    }
   ],
   "source": [
    "df2=df.copy()\n",
    "print(df2)"
   ]
  },
  {
   "cell_type": "code",
   "execution_count": 21,
   "id": "advisory-kitchen",
   "metadata": {},
   "outputs": [
    {
     "name": "stdout",
     "output_type": "stream",
     "text": [
      "    1  0  0.1  1.1  0.2  0.3  1.2  1.3  1.4  1.5  0.4  0.5  4  0.6  0.7  1.6\n",
      "0   1  0    0    1    0    0    0    1    1    1    0    0  4    1    0    1\n",
      "1   0  0    1    0    0    1    1    1    1    0    0    1  0    1    0    0\n",
      "2   1  0    0    1    0    0    1    1    1    1    0    0  4    0    0    1\n",
      "3   1  0    0    1    0    0    1    1    1    1    0    0  4    1    0    1\n",
      "4   1  0    0    1    0    0    0    1    1    1    0    0  4    1    0    1\n",
      ".. .. ..  ...  ...  ...  ...  ...  ...  ...  ...  ...  ... ..  ...  ...  ...\n",
      "95  1  0    0    1    0    0    0    1    1    1    0    0  2    1    0    1\n",
      "96  1  0    1    0    1    0    0    0    0    1    1    0  6    0    0    0\n",
      "97  1  0    0    1    0    0    1    1    1    1    0    0  4    1    0    1\n",
      "98  0  0    1    0    0    0    0    0    0    1    0    0  0    0    0    0\n",
      "99  0  1    1    0    1    0    0    0    1    1    0    0  2    1    0    0\n",
      "\n",
      "[100 rows x 16 columns]\n"
     ]
    }
   ],
   "source": [
    "\n",
    "df2 = df2.iloc[:, :-1]\n",
    "print(df2)"
   ]
  },
  {
   "cell_type": "code",
   "execution_count": 22,
   "id": "caring-secretary",
   "metadata": {},
   "outputs": [],
   "source": [
    "X_train, X_test, y_train, y_test = train_test_split( \n",
    "    df2, target, test_size = 0.3, random_state = 100)"
   ]
  },
  {
   "cell_type": "code",
   "execution_count": 24,
   "id": "early-membership",
   "metadata": {},
   "outputs": [
    {
     "name": "stdout",
     "output_type": "stream",
     "text": [
      "    1  0  0.1  1.1  0.2  0.3  1.2  1.3  1.4  1.5  0.4  0.5  4  0.6  0.7  1.6\n",
      "32  0  1    1    0    1    1    1    0    1    1    0    0  2    1    0    0\n",
      "6   0  0    1    0    0    1    0    1    1    0    0    1  0    1    1    0\n",
      "3   1  0    0    1    0    0    1    1    1    1    0    0  4    1    0    1\n",
      "12  0  0    1    0    0    0    1    0    0    0    0    0  0    0    0    0\n",
      "51  0  0    1    0    0    1    1    1    1    1    0    0  4    1    0    0\n",
      ".. .. ..  ...  ...  ...  ...  ...  ...  ...  ...  ...  ... ..  ...  ...  ...\n",
      "79  0  0    1    0    0    0    1    1    1    1    0    0  0    1    0    0\n",
      "87  0  0    1    0    0    0    0    0    0    1    0    0  6    0    0    0\n",
      "67  1  0    0    1    0    0    1    1    1    1    0    0  4    1    1    1\n",
      "24  0  0    1    0    0    1    1    1    1    1    0    0  4    0    0    0\n",
      "8   1  0    0    1    0    0    0    1    1    1    0    0  4    0    1    0\n",
      "\n",
      "[70 rows x 16 columns]\n"
     ]
    }
   ],
   "source": [
    "print(X_train)"
   ]
  },
  {
   "cell_type": "code",
   "execution_count": 25,
   "id": "consecutive-score",
   "metadata": {},
   "outputs": [
    {
     "name": "stdout",
     "output_type": "stream",
     "text": [
      "    1  0  0.1  1.1  0.2  0.3  1.2  1.3  1.4  1.5  0.4  0.5  4  0.6  0.7  1.6\n",
      "37  0  0    1    0    0    1    1    1    1    0    0    1  0    1    0    0\n",
      "62  1  0    1    1    0    1    1    0    1    1    0    0  4    1    0    1\n",
      "26  1  0    0    1    1    0    0    1    1    1    0    0  2    1    0    0\n",
      "41  0  0    1    0    1    0    1    0    0    1    0    0  6    0    0    0\n",
      "35  1  0    0    1    0    0    0    1    1    1    0    0  4    1    0    0\n",
      "25  0  0    1    0    0    1    1    1    1    1    1    0  4    0    0    0\n",
      "36  0  1    1    0    1    0    1    0    1    1    0    0  2    1    0    0\n",
      "33  0  0    1    0    0    1    0    1    1    0    0    1  0    1    0    0\n",
      "77  0  1    1    0    1    1    1    0    1    1    0    0  2    1    0    0\n",
      "21  1  0    0    1    0    0    0    1    1    1    0    0  4    1    0    1\n",
      "85  0  0    1    0    0    1    1    1    1    0    1    1  0    1    0    1\n",
      "50  1  0    1    0    1    0    0    0    0    1    0    0  6    0    0    0\n",
      "92  1  0    0    1    1    0    0    1    1    1    0    0  2    1    0    0\n",
      "69  1  0    0    1    0    0    0    1    1    1    0    0  4    1    1    1\n",
      "96  1  0    1    0    1    0    0    0    0    1    1    0  6    0    0    0\n",
      "78  0  1    1    0    1    1    1    0    1    1    0    0  2    1    0    0\n",
      "72  0  0    1    0    0    1    0    1    1    0    0    1  0    1    0    0\n",
      "5   1  0    0    1    0    0    0    1    1    1    0    0  4    1    1    1\n",
      "40  0  1    1    0    0    0    1    0    1    1    0    0  2    1    0    0\n",
      "11  0  0    1    0    0    1    1    1    1    0    0    1  0    1    0    0\n",
      "29  0  0    1    0    1    0    0    0    0    1    0    0  6    0    0    0\n",
      "83  1  0    0    1    0    0    0    1    1    1    0    0  2    1    0    0\n",
      "82  0  1    1    0    1    0    0    0    1    1    0    0  2    1    0    0\n",
      "43  1  0    0    1    0    0    1    1    1    1    0    0  4    1    0    1\n",
      "28  1  0    0    1    0    0    1    1    1    1    0    0  2    0    1    1\n",
      "22  0  1    1    0    1    0    0    0    1    1    0    0  2    1    0    1\n",
      "23  0  0    1    0    0    0    0    0    0    1    0    0  6    0    0    0\n",
      "90  0  0    1    0    0    0    1    1    1    1    0    0  4    1    0    0\n",
      "86  0  1    1    0    1    1    0    0    1    1    0    0  2    1    0    1\n",
      "20  0  1    1    0    1    1    0    0    1    1    0    0  2    1    0    0\n"
     ]
    }
   ],
   "source": [
    "print(X_test)"
   ]
  },
  {
   "cell_type": "code",
   "execution_count": 26,
   "id": "ecological-gossip",
   "metadata": {},
   "outputs": [
    {
     "name": "stdout",
     "output_type": "stream",
     "text": [
      "32    2\n",
      "6     4\n",
      "3     1\n",
      "12    7\n",
      "51    5\n",
      "     ..\n",
      "79    3\n",
      "87    6\n",
      "67    1\n",
      "24    5\n",
      "8     1\n",
      "Name: 1.7, Length: 70, dtype: int64\n"
     ]
    }
   ],
   "source": [
    "print(y_train)"
   ]
  },
  {
   "cell_type": "code",
   "execution_count": 27,
   "id": "ordered-encyclopedia",
   "metadata": {},
   "outputs": [
    {
     "name": "stdout",
     "output_type": "stream",
     "text": [
      "37    4\n",
      "62    1\n",
      "26    1\n",
      "41    6\n",
      "35    1\n",
      "25    5\n",
      "36    2\n",
      "33    4\n",
      "77    2\n",
      "21    1\n",
      "85    4\n",
      "50    6\n",
      "92    1\n",
      "69    1\n",
      "96    6\n",
      "78    2\n",
      "72    4\n",
      "5     1\n",
      "40    2\n",
      "11    4\n",
      "29    6\n",
      "83    1\n",
      "82    2\n",
      "43    1\n",
      "28    1\n",
      "22    2\n",
      "23    6\n",
      "90    3\n",
      "86    2\n",
      "20    2\n",
      "Name: 1.7, dtype: int64\n"
     ]
    }
   ],
   "source": [
    "print(y_test)"
   ]
  },
  {
   "cell_type": "code",
   "execution_count": 28,
   "id": "associate-property",
   "metadata": {},
   "outputs": [],
   "source": [
    " clf_gini = DecisionTreeClassifier(criterion = \"gini\",\n",
    "            random_state = 100,max_depth=3, min_samples_leaf=5)"
   ]
  },
  {
   "cell_type": "code",
   "execution_count": 29,
   "id": "employed-values",
   "metadata": {},
   "outputs": [
    {
     "data": {
      "text/plain": [
       "DecisionTreeClassifier(max_depth=3, min_samples_leaf=5, random_state=100)"
      ]
     },
     "execution_count": 29,
     "metadata": {},
     "output_type": "execute_result"
    }
   ],
   "source": [
    "clf_gini.fit(X_train, y_train)"
   ]
  },
  {
   "cell_type": "code",
   "execution_count": 30,
   "id": "ecological-junior",
   "metadata": {},
   "outputs": [
    {
     "name": "stdout",
     "output_type": "stream",
     "text": [
      "DecisionTreeClassifier(max_depth=3, min_samples_leaf=5, random_state=100)\n"
     ]
    }
   ],
   "source": [
    "print(clf_gini)"
   ]
  },
  {
   "cell_type": "code",
   "execution_count": 31,
   "id": "hungarian-virginia",
   "metadata": {},
   "outputs": [],
   "source": [
    "clf_entropy = DecisionTreeClassifier(\n",
    "            criterion = \"entropy\", random_state = 100,\n",
    "            max_depth = 3, min_samples_leaf = 5)"
   ]
  },
  {
   "cell_type": "code",
   "execution_count": 32,
   "id": "experienced-gallery",
   "metadata": {},
   "outputs": [
    {
     "data": {
      "text/plain": [
       "DecisionTreeClassifier(criterion='entropy', max_depth=3, min_samples_leaf=5,\n",
       "                       random_state=100)"
      ]
     },
     "execution_count": 32,
     "metadata": {},
     "output_type": "execute_result"
    }
   ],
   "source": [
    "clf_entropy.fit(X_train, y_train)"
   ]
  },
  {
   "cell_type": "code",
   "execution_count": 33,
   "id": "chinese-disco",
   "metadata": {},
   "outputs": [
    {
     "name": "stdout",
     "output_type": "stream",
     "text": [
      "DecisionTreeClassifier(criterion='entropy', max_depth=3, min_samples_leaf=5,\n",
      "                       random_state=100)\n"
     ]
    }
   ],
   "source": [
    "print(clf_entropy)"
   ]
  },
  {
   "cell_type": "code",
   "execution_count": 37,
   "id": "naval-pickup",
   "metadata": {},
   "outputs": [
    {
     "name": "stdout",
     "output_type": "stream",
     "text": [
      "Predicted values:\n",
      "[4 1 1 7 1 7 2 4 2 1 4 7 1 1 7 2 4 1 2 4 7 1 2 1 1 2 7 7 2 2]\n"
     ]
    }
   ],
   "source": [
    "y_pred = clf_gini.predict(X_test)\n",
    "print(\"Predicted values:\")\n",
    "print(y_pred)"
   ]
  },
  {
   "cell_type": "code",
   "execution_count": 42,
   "id": "religious-opera",
   "metadata": {},
   "outputs": [
    {
     "name": "stdout",
     "output_type": "stream",
     "text": [
      "Predicted values:\n",
      "[4 1 1 7 1 4 2 4 2 1 4 6 1 1 6 2 4 1 2 4 6 1 2 1 1 2 6 4 2 2]\n"
     ]
    }
   ],
   "source": [
    "y1_pred = clf_entropy.predict(X_test)\n",
    "print(\"Predicted values:\")\n",
    "print(y1_pred)"
   ]
  },
  {
   "cell_type": "code",
   "execution_count": 49,
   "id": "parallel-repository",
   "metadata": {},
   "outputs": [
    {
     "name": "stdout",
     "output_type": "stream",
     "text": [
      "Confusion Matrix:  [[10  0  0  0  0  0  0]\n",
      " [ 0  8  0  0  0  0  0]\n",
      " [ 0  0  0  1  0  0  0]\n",
      " [ 0  0  0  5  0  0  0]\n",
      " [ 0  0  0  1  0  0  0]\n",
      " [ 0  0  0  0  0  4  1]\n",
      " [ 0  0  0  0  0  0  0]]\n"
     ]
    }
   ],
   "source": [
    "print(\"Confusion Matrix: \",confusion_matrix(y_test, y1_pred))"
   ]
  },
  {
   "cell_type": "code",
   "execution_count": 50,
   "id": "absolute-alabama",
   "metadata": {},
   "outputs": [
    {
     "name": "stdout",
     "output_type": "stream",
     "text": [
      "Confusion Matrix:  [[10  0  0  0  0  0  0]\n",
      " [ 0  8  0  0  0  0  0]\n",
      " [ 0  0  0  0  0  0  1]\n",
      " [ 0  0  0  5  0  0  0]\n",
      " [ 0  0  0  0  0  0  1]\n",
      " [ 0  0  0  0  0  0  5]\n",
      " [ 0  0  0  0  0  0  0]]\n"
     ]
    }
   ],
   "source": [
    "print(\"Confusion Matrix: \",confusion_matrix(y_test, y_pred))"
   ]
  },
  {
   "cell_type": "code",
   "execution_count": 45,
   "id": "conscious-asbestos",
   "metadata": {},
   "outputs": [
    {
     "name": "stdout",
     "output_type": "stream",
     "text": [
      "Accuracy :  90.0\n"
     ]
    }
   ],
   "source": [
    "print (\"Accuracy : \",accuracy_score(y_test,y1_pred)*100)"
   ]
  },
  {
   "cell_type": "code",
   "execution_count": 46,
   "id": "combined-allen",
   "metadata": {},
   "outputs": [
    {
     "name": "stdout",
     "output_type": "stream",
     "text": [
      "Accuracy :  76.66666666666667\n"
     ]
    }
   ],
   "source": [
    "print (\"Accuracy : \",accuracy_score(y_test,y_pred)*100)"
   ]
  },
  {
   "cell_type": "code",
   "execution_count": 47,
   "id": "iraqi-appraisal",
   "metadata": {},
   "outputs": [
    {
     "name": "stdout",
     "output_type": "stream",
     "text": [
      "Report :                precision    recall  f1-score   support\n",
      "\n",
      "           1       1.00      1.00      1.00        10\n",
      "           2       1.00      1.00      1.00         8\n",
      "           3       0.00      0.00      0.00         1\n",
      "           4       0.71      1.00      0.83         5\n",
      "           5       0.00      0.00      0.00         1\n",
      "           6       1.00      0.80      0.89         5\n",
      "           7       0.00      0.00      0.00         0\n",
      "\n",
      "    accuracy                           0.90        30\n",
      "   macro avg       0.53      0.54      0.53        30\n",
      "weighted avg       0.89      0.90      0.89        30\n",
      "\n"
     ]
    },
    {
     "name": "stderr",
     "output_type": "stream",
     "text": [
      "/home/root1/anaconda3/lib/python3.7/site-packages/sklearn/metrics/_classification.py:1221: UndefinedMetricWarning: Precision and F-score are ill-defined and being set to 0.0 in labels with no predicted samples. Use `zero_division` parameter to control this behavior.\n",
      "  _warn_prf(average, modifier, msg_start, len(result))\n",
      "/home/root1/anaconda3/lib/python3.7/site-packages/sklearn/metrics/_classification.py:1221: UndefinedMetricWarning: Recall and F-score are ill-defined and being set to 0.0 in labels with no true samples. Use `zero_division` parameter to control this behavior.\n",
      "  _warn_prf(average, modifier, msg_start, len(result))\n"
     ]
    }
   ],
   "source": [
    "print(\"Report : \",classification_report(y_test, y1_pred))"
   ]
  },
  {
   "cell_type": "code",
   "execution_count": 48,
   "id": "secondary-israeli",
   "metadata": {},
   "outputs": [
    {
     "name": "stdout",
     "output_type": "stream",
     "text": [
      "Report :                precision    recall  f1-score   support\n",
      "\n",
      "           1       1.00      1.00      1.00        10\n",
      "           2       1.00      1.00      1.00         8\n",
      "           3       0.00      0.00      0.00         1\n",
      "           4       1.00      1.00      1.00         5\n",
      "           5       0.00      0.00      0.00         1\n",
      "           6       0.00      0.00      0.00         5\n",
      "           7       0.00      0.00      0.00         0\n",
      "\n",
      "    accuracy                           0.77        30\n",
      "   macro avg       0.43      0.43      0.43        30\n",
      "weighted avg       0.77      0.77      0.77        30\n",
      "\n"
     ]
    }
   ],
   "source": [
    "print(\"Report : \",classification_report(y_test, y_pred))"
   ]
  },
  {
   "cell_type": "code",
   "execution_count": null,
   "id": "incident-palestine",
   "metadata": {},
   "outputs": [],
   "source": []
  }
 ],
 "metadata": {
  "kernelspec": {
   "display_name": "Python 3",
   "language": "python",
   "name": "python3"
  },
  "language_info": {
   "codemirror_mode": {
    "name": "ipython",
    "version": 3
   },
   "file_extension": ".py",
   "mimetype": "text/x-python",
   "name": "python",
   "nbconvert_exporter": "python",
   "pygments_lexer": "ipython3",
   "version": "3.7.3"
  }
 },
 "nbformat": 4,
 "nbformat_minor": 5
}
